{
  "nbformat": 4,
  "nbformat_minor": 0,
  "metadata": {
    "colab": {
      "provenance": [],
      "authorship_tag": "ABX9TyMRCgdRa31g6txOxN4iQ6I0",
      "include_colab_link": true
    },
    "kernelspec": {
      "name": "python3",
      "display_name": "Python 3"
    },
    "language_info": {
      "name": "python"
    }
  },
  "cells": [
    {
      "cell_type": "markdown",
      "metadata": {
        "id": "view-in-github",
        "colab_type": "text"
      },
      "source": [
        "<a href=\"https://colab.research.google.com/github/ClaytonPavani/amostragem-estratificada/blob/main/amostragem_estratificada_conglomerado.ipynb\" target=\"_parent\"><img src=\"https://colab.research.google.com/assets/colab-badge.svg\" alt=\"Open In Colab\"/></a>"
      ]
    },
    {
      "cell_type": "code",
      "execution_count": null,
      "metadata": {
        "id": "xYZgh8SuTDIb"
      },
      "outputs": [],
      "source": [
        "import pandas\n",
        "from random import sample"
      ]
    },
    {
      "cell_type": "code",
      "source": [
        "a = [1, 2, 3, 4, 5, 6, 7, 8, 9, 10, 11, 12]\n",
        "b = [\"A\", \"A\", \"A\", \"A\", \"B\", \"B\", \"C\", \"C\", \"C\", \"D\", \"D\", \"D\"]\n",
        "df = pandas.DataFrame({\"grupo\": b, \"values\":a})\n",
        "df"
      ],
      "metadata": {
        "id": "3RcCpo2vTIHC"
      },
      "execution_count": null,
      "outputs": []
    },
    {
      "cell_type": "code",
      "source": [
        "def amostra_estratificada_1(df, n, estrato):\n",
        "    amostra = df.groupby(estrato, group_keys=False).apply(lambda x: x.sample(min(len(x), n)))\n",
        "    return amostra"
      ],
      "metadata": {
        "id": "_aFqfQBjTKYO"
      },
      "execution_count": null,
      "outputs": []
    },
    {
      "cell_type": "markdown",
      "source": [
        "Amostra estratificada com estratos de tamanho 2"
      ],
      "metadata": {
        "id": "0qzOyj67TL9V"
      }
    },
    {
      "cell_type": "code",
      "source": [
        "amostra_estratificada_1(df, 2, 'grupo')"
      ],
      "metadata": {
        "id": "SZH4FbJSTOC2"
      },
      "execution_count": null,
      "outputs": []
    },
    {
      "cell_type": "code",
      "source": [
        "amostra_estratificada_1(df, 3, 'grupo')"
      ],
      "metadata": {
        "id": "dQOMU3MFTPzr"
      },
      "execution_count": null,
      "outputs": []
    },
    {
      "cell_type": "markdown",
      "source": [
        "Agora, ao invés de definir o tamanho dos estratos, vamos definir o tamanho da AMOSTRA FINAL. Cada estrato vai ter uma amostra proporcional à representação do estrato na população"
      ],
      "metadata": {
        "id": "f3zkpRHwTRez"
      }
    },
    {
      "cell_type": "code",
      "source": [
        "df.shape"
      ],
      "metadata": {
        "id": "zmu3ccL0TTpA"
      },
      "execution_count": null,
      "outputs": []
    },
    {
      "cell_type": "code",
      "source": [
        "def amostra_estratificada_2(df, N, estrato):\n",
        "    tamanho_pop = df.shape[0]\n",
        "    amostra = df.groupby(estrato, group_keys=False)\\\n",
        "       .apply(lambda x: x.sample(int(N*len(x)/tamanho_pop)))\\\n",
        "       .reset_index(drop=True)\\\n",
        "       .sort_values(by=estrato)\n",
        "    return amostra"
      ],
      "metadata": {
        "id": "ICZYJyoRTVLg"
      },
      "execution_count": null,
      "outputs": []
    },
    {
      "cell_type": "code",
      "source": [
        "amostra_estratificada_2(df, 6, 'grupo')"
      ],
      "metadata": {
        "id": "8TIGsI91TWZT"
      },
      "execution_count": null,
      "outputs": []
    },
    {
      "cell_type": "markdown",
      "source": [
        "AMOSTRAGEM POR CONGLOMERADO: Aqui precisamos primeiro amostrar aleatoriamente os conglomerados para então pegar todas as observações desses conglomerados escolhidos e formar nossa amostra."
      ],
      "metadata": {
        "id": "54Kie7dyTX34"
      }
    },
    {
      "cell_type": "code",
      "source": [
        "def amostra_conglomerado(df, n_conglomerados, conglomerado):\n",
        "    todos_conglomerados = list(df[conglomerado].unique())\n",
        "    tamanho_conglomerados = len(todos_conglomerados)\n",
        "    n = min(n_conglomerados, tamanho_conglomerados)\n",
        "    conglomerados_sorteados = sample(todos_conglomerados, n)\n",
        "\n",
        "    amostra = df[df[conglomerado].isin(conglomerados_sorteados)]\n",
        "    return amostra"
      ],
      "metadata": {
        "id": "Qo0oQwTuTZup"
      },
      "execution_count": null,
      "outputs": []
    },
    {
      "cell_type": "code",
      "source": [
        "amostra_conglomerado(df, 2, 'grupo')"
      ],
      "metadata": {
        "id": "dHavMznBTbOl"
      },
      "execution_count": null,
      "outputs": []
    }
  ]
}